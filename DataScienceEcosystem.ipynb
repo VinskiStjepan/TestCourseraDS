{
 "cells": [
  {
   "cell_type": "markdown",
   "id": "748f9bed-464e-422e-b714-6ad09300e3b2",
   "metadata": {},
   "source": [
    "# Data Science Tools and Ecosystem"
   ]
  },
  {
   "cell_type": "markdown",
   "id": "d0e8a30c-b5fd-4596-be5f-5a9ee49aac8e",
   "metadata": {},
   "source": [
    "In this notebook, Data Science Tools and Ecosystem are summarized."
   ]
  },
  {
   "cell_type": "markdown",
   "id": "fce7d902-27ce-429a-9ef0-a8c924a6ede8",
   "metadata": {},
   "source": [
    "**Objectives:**\n",
    "- List of popular languages that Data Scientists use\n",
    "- List of commonly used libraries used by Data Scientists\n",
    "- Table of Data Science Tools\n",
    "- Few examples of evaluating arithmetic expressions in Python"
   ]
  },
  {
   "cell_type": "markdown",
   "id": "79fbffec-5e0f-4a87-b1d5-dccc5814564e",
   "metadata": {},
   "source": [
    "Some of the popular languages that Data Scientists use are:\n",
    "1. Python\n",
    "1. R\n",
    "1. SCALA\n",
    "1. SQL\n",
    "1. C++"
   ]
  },
  {
   "cell_type": "markdown",
   "id": "e384b1db-d27e-4245-a9ad-ee93a210759e",
   "metadata": {},
   "source": [
    "Some of the commonly used libraries used by Data Scientists include:\n",
    "1. Pandas\n",
    "1. NumPy\n",
    "1. Matplotlib\n",
    "1. ggplot"
   ]
  },
  {
   "cell_type": "markdown",
   "id": "91ddf105-0e3a-421e-b8be-9bb248347be3",
   "metadata": {},
   "source": [
    "| Data Science Tools |\n",
    "| ----------- |\n",
    "| Spark |\n",
    "| Airflow |\n",
    "| Jupyter |\n",
    "| RStudio |"
   ]
  },
  {
   "cell_type": "markdown",
   "id": "b7b5496e-da24-4475-a95a-55741b3a9003",
   "metadata": {},
   "source": [
    "### Below are a few examples of evaluating arithmetic expressions in Python"
   ]
  },
  {
   "cell_type": "code",
   "execution_count": 2,
   "id": "a4126b9e-a419-4fb3-b513-d0beb15d8654",
   "metadata": {
    "tags": []
   },
   "outputs": [
    {
     "data": {
      "text/plain": [
       "17"
      ]
     },
     "execution_count": 2,
     "metadata": {},
     "output_type": "execute_result"
    }
   ],
   "source": [
    "# This a simple arithmetic expression to mutiply then add integers\n",
    "(3*4)+5"
   ]
  },
  {
   "cell_type": "code",
   "execution_count": 3,
   "id": "ca18c54d-47f0-4c93-aba8-72561dc5ad8c",
   "metadata": {
    "tags": []
   },
   "outputs": [
    {
     "data": {
      "text/plain": [
       "3.3333333333333335"
      ]
     },
     "execution_count": 3,
     "metadata": {},
     "output_type": "execute_result"
    }
   ],
   "source": [
    "# This will convert 200 minutes to hours by diving by 60\n",
    "200/60"
   ]
  },
  {
   "cell_type": "markdown",
   "id": "3aed2b99-366a-440d-bdd6-240077bf11b2",
   "metadata": {},
   "source": [
    "## Author\n",
    "Stjepan Vinski\n"
   ]
  },
  {
   "cell_type": "code",
   "execution_count": null,
   "id": "e80dd2ff-6271-4965-a1f7-d07f793232f2",
   "metadata": {},
   "outputs": [],
   "source": []
  }
 ],
 "metadata": {
  "kernelspec": {
   "display_name": "Python",
   "language": "python",
   "name": "conda-env-python-py"
  },
  "language_info": {
   "codemirror_mode": {
    "name": "ipython",
    "version": 3
   },
   "file_extension": ".py",
   "mimetype": "text/x-python",
   "name": "python",
   "nbconvert_exporter": "python",
   "pygments_lexer": "ipython3",
   "version": "3.7.12"
  }
 },
 "nbformat": 4,
 "nbformat_minor": 5
}
